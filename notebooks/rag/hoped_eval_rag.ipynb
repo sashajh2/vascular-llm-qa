{
  "cells": [
    {
      "cell_type": "code",
      "execution_count": 1,
      "metadata": {
        "colab": {
          "base_uri": "https://localhost:8080/"
        },
        "id": "SVB8Nbs1JHrj",
        "outputId": "276bab75-df18-4754-8924-ce39529d91b5"
      },
      "outputs": [
        {
          "name": "stdout",
          "output_type": "stream",
          "text": [
            "C:\\Users\\hoped\\Desktop\\6.793\\project\\vascular-llm-qa\n"
          ]
        }
      ],
      "source": [
        "import os\n",
        "os.chdir(\"C:\\\\Users\\\\hoped\\\\Desktop\\\\6.793\\\\project\\\\vascular-llm-qa\")\n",
        "print(os.getcwd())\n",
        "mcq_fname = \"C:\\\\Users\\\\hoped\\\\Desktop\\\\6.793\\\\project\\\\vascular-llm-qa\\\\data\\\\mcq.csv\"\n"
      ]
    },
    {
      "cell_type": "code",
      "execution_count": 2,
      "metadata": {},
      "outputs": [],
      "source": [
        "import pandas as pd\n",
        "import numpy as np\n",
        "import pickle\n",
        "import csv\n",
        "import os\n",
        "import time"
      ]
    },
    {
      "cell_type": "code",
      "execution_count": 11,
      "metadata": {},
      "outputs": [
        {
          "data": {
            "text/html": [
              "<div>\n",
              "<style scoped>\n",
              "    .dataframe tbody tr th:only-of-type {\n",
              "        vertical-align: middle;\n",
              "    }\n",
              "\n",
              "    .dataframe tbody tr th {\n",
              "        vertical-align: top;\n",
              "    }\n",
              "\n",
              "    .dataframe thead th {\n",
              "        text-align: right;\n",
              "    }\n",
              "</style>\n",
              "<table border=\"1\" class=\"dataframe\">\n",
              "  <thead>\n",
              "    <tr style=\"text-align: right;\">\n",
              "      <th></th>\n",
              "      <th>question_id</th>\n",
              "      <th>source</th>\n",
              "      <th>labels</th>\n",
              "      <th>topic</th>\n",
              "      <th>question</th>\n",
              "      <th>answer</th>\n",
              "      <th>explanation</th>\n",
              "    </tr>\n",
              "  </thead>\n",
              "  <tbody>\n",
              "    <tr>\n",
              "      <th>0</th>\n",
              "      <td>1a</td>\n",
              "      <td>apdvs</td>\n",
              "      <td>cs, lq</td>\n",
              "      <td>carotid disorders</td>\n",
              "      <td>A 75-year-old male smoke presents with recent ...</td>\n",
              "      <td>D</td>\n",
              "      <td>Right carotid endarterectomy. The patient has ...</td>\n",
              "    </tr>\n",
              "    <tr>\n",
              "      <th>1</th>\n",
              "      <td>1b</td>\n",
              "      <td>apdvs</td>\n",
              "      <td>cs, sq</td>\n",
              "      <td>carotid disorders</td>\n",
              "      <td>A 75-year-old man had temporary vision loss in...</td>\n",
              "      <td>D</td>\n",
              "      <td>Right carotid endarterectomy. The patient has ...</td>\n",
              "    </tr>\n",
              "    <tr>\n",
              "      <th>2</th>\n",
              "      <td>2a</td>\n",
              "      <td>apdvs</td>\n",
              "      <td>gk, lq</td>\n",
              "      <td>carotid disorders</td>\n",
              "      <td>What is the first muscle layer encountered in...</td>\n",
              "      <td>C</td>\n",
              "      <td>The platysma is the most superficial muscle in...</td>\n",
              "    </tr>\n",
              "    <tr>\n",
              "      <th>3</th>\n",
              "      <td>2b</td>\n",
              "      <td>apdvs</td>\n",
              "      <td>gk, sq</td>\n",
              "      <td>carotid disorders</td>\n",
              "      <td>During a carotid endarterectomy, which neck mu...</td>\n",
              "      <td>C</td>\n",
              "      <td>The platysma is the most superficial muscle in...</td>\n",
              "    </tr>\n",
              "    <tr>\n",
              "      <th>4</th>\n",
              "      <td>3a</td>\n",
              "      <td>apdvs</td>\n",
              "      <td>gk, lq</td>\n",
              "      <td>lower extremity arterial disease</td>\n",
              "      <td>A 65-year old male with a history of hyperten...</td>\n",
              "      <td>B</td>\n",
              "      <td>Claudication is defined as reproducible pain o...</td>\n",
              "    </tr>\n",
              "    <tr>\n",
              "      <th>...</th>\n",
              "      <td>...</td>\n",
              "      <td>...</td>\n",
              "      <td>...</td>\n",
              "      <td>...</td>\n",
              "      <td>...</td>\n",
              "      <td>...</td>\n",
              "      <td>...</td>\n",
              "    </tr>\n",
              "    <tr>\n",
              "      <th>446</th>\n",
              "      <td>56.ten</td>\n",
              "      <td>case_studies</td>\n",
              "      <td>cs</td>\n",
              "      <td>venuous disease</td>\n",
              "      <td>A 19 year old female was brought in to the Eme...</td>\n",
              "      <td>C</td>\n",
              "      <td>NaN</td>\n",
              "    </tr>\n",
              "    <tr>\n",
              "      <th>447</th>\n",
              "      <td>57.2</td>\n",
              "      <td>case_studies</td>\n",
              "      <td>gk</td>\n",
              "      <td>venuous disease</td>\n",
              "      <td>Which of the following statements regarding th...</td>\n",
              "      <td>B, C, E</td>\n",
              "      <td>NaN</td>\n",
              "    </tr>\n",
              "    <tr>\n",
              "      <th>448</th>\n",
              "      <td>57.3</td>\n",
              "      <td>case_studies</td>\n",
              "      <td>gk</td>\n",
              "      <td>venuous disease</td>\n",
              "      <td>Which of the following statements regarding th...</td>\n",
              "      <td>A, B, D</td>\n",
              "      <td>NaN</td>\n",
              "    </tr>\n",
              "    <tr>\n",
              "      <th>449</th>\n",
              "      <td>57.4</td>\n",
              "      <td>case_studies</td>\n",
              "      <td>gk</td>\n",
              "      <td>venuous disease</td>\n",
              "      <td>What are the long-term results of derivative a...</td>\n",
              "      <td>A, C</td>\n",
              "      <td>NaN</td>\n",
              "    </tr>\n",
              "    <tr>\n",
              "      <th>450</th>\n",
              "      <td>57.5</td>\n",
              "      <td>case_studies</td>\n",
              "      <td>gk</td>\n",
              "      <td>venuous disease</td>\n",
              "      <td>Which of the following statements are true? se...</td>\n",
              "      <td>B, C</td>\n",
              "      <td>NaN</td>\n",
              "    </tr>\n",
              "  </tbody>\n",
              "</table>\n",
              "<p>451 rows × 7 columns</p>\n",
              "</div>"
            ],
            "text/plain": [
              "    question_id        source  labels                             topic  \\\n",
              "0            1a         apdvs  cs, lq                 carotid disorders   \n",
              "1            1b         apdvs  cs, sq                 carotid disorders   \n",
              "2            2a         apdvs  gk, lq                 carotid disorders   \n",
              "3            2b         apdvs  gk, sq                 carotid disorders   \n",
              "4            3a         apdvs  gk, lq  lower extremity arterial disease   \n",
              "..          ...           ...     ...                               ...   \n",
              "446      56.ten  case_studies      cs                   venuous disease   \n",
              "447        57.2  case_studies      gk                   venuous disease   \n",
              "448        57.3  case_studies      gk                   venuous disease   \n",
              "449        57.4  case_studies      gk                   venuous disease   \n",
              "450        57.5  case_studies      gk                   venuous disease   \n",
              "\n",
              "                                              question   answer  \\\n",
              "0    A 75-year-old male smoke presents with recent ...        D   \n",
              "1    A 75-year-old man had temporary vision loss in...        D   \n",
              "2     What is the first muscle layer encountered in...        C   \n",
              "3    During a carotid endarterectomy, which neck mu...        C   \n",
              "4     A 65-year old male with a history of hyperten...        B   \n",
              "..                                                 ...      ...   \n",
              "446  A 19 year old female was brought in to the Eme...        C   \n",
              "447  Which of the following statements regarding th...  B, C, E   \n",
              "448  Which of the following statements regarding th...  A, B, D   \n",
              "449  What are the long-term results of derivative a...     A, C   \n",
              "450  Which of the following statements are true? se...     B, C   \n",
              "\n",
              "                                           explanation  \n",
              "0    Right carotid endarterectomy. The patient has ...  \n",
              "1    Right carotid endarterectomy. The patient has ...  \n",
              "2    The platysma is the most superficial muscle in...  \n",
              "3    The platysma is the most superficial muscle in...  \n",
              "4    Claudication is defined as reproducible pain o...  \n",
              "..                                                 ...  \n",
              "446                                                NaN  \n",
              "447                                                NaN  \n",
              "448                                                NaN  \n",
              "449                                                NaN  \n",
              "450                                                NaN  \n",
              "\n",
              "[451 rows x 7 columns]"
            ]
          },
          "execution_count": 11,
          "metadata": {},
          "output_type": "execute_result"
        }
      ],
      "source": [
        "questions_df = pd.read_csv(mcq_fname, encoding='utf-8')\n",
        "questions_df"
      ]
    },
    {
      "cell_type": "code",
      "execution_count": 19,
      "metadata": {},
      "outputs": [
        {
          "name": "stderr",
          "output_type": "stream",
          "text": [
            "1it [00:00,  7.35it/s]"
          ]
        },
        {
          "name": "stdout",
          "output_type": "stream",
          "text": [
            "A 75-year-old male smoke presents with recent visual changes to his right eye that occurred yesterday. The patient reports a shading of his visual field that resulted in momentary monocular blindness followed by return to normal vision. He has a carotid duplex showing >50% diameter reduction to his right internal carotid artery and >80% stenosis to his left internal carotid artery. What treatment should be offered to this patient?\n",
            "[np.int64(1137), np.int64(2925), np.int64(1354), np.int64(198)]\n",
            "1137\n",
            "2925\n",
            "1354\n",
            "198\n",
            "ocular blindness associated with\n",
            "carotid-artery stenosis. N Engl J Med 2001;345:1084-90.\n",
            "21. Qureshi AI, Alexandrov AV, Tegeler CH, Hobson RW 2nd, Dennis\n",
            "Baker J, Hopkins LN, et al. Guidelines for screening of extracranial\n",
            "carotid artery disease: a statement for healthcare professionals from the\n",
            "multidisciplinary practice guidelines committee of the American Society of Neuroimaging: cosponsored by the Society of Vascular and\n",
            "Interventional Neurology. J Neuroimaging 2007;17:19-47.\n",
            "22. Gorelick PB, Sacco RL, Smith DB, Alberts M, Mustone-Alexander L,\n",
            "Rader D, et al. Prevention of a first stroke: a review of guidelines and a\n",
            "multidisciplinary consensus statement from the National Stroke Association. JAMA 1999;281:1112-20.\n",
            "23. Perry JR, Szalai JP, Norris JW. Consensus against both endarterectomy and routine screening for asymptomatic carotid artery stenosis.\n",
            "Canadian Stroke Consortium. Arch Neurol 1997;54:25-8.\n",
            "24. U.S. Preventive Services Task Force. Screening for carotid artery\n",
            "stenosis: U.S. Preventive Services Task Force recommendation statement. Ann Intern Med 2007;147:854-9.\n",
            "\n",
            "JOURNAL OF VASCULAR SURGERY\n",
            "September 2011\n",
            "\n",
            "25. Goldstein LB, Adams R, Alberts MJ, Appel LJ, Brass LM, Bushnell\n",
            "CD, et al. Primary prevention of ischemic stroke: a guideline from the\n",
            "American Heart Association/American Stroke Association Stroke\n",
            "Council: cosponsored by the Atherosclerotic Peripheral Vascular Disease Interdisciplinary Working Group; Cardiovascular Nursing Council; Clinical Cardiology Council; Nutrition, Physical Activity, and\n",
            "Metabolism Council; and the Quality of Care and Outcomes Research\n",
            "Interdisciplinary Working Group: the American Academy of Neurology affirms the value of this guideline. Stroke 2006;37:1583-633.\n",
            "26. Bates ER, Babb JD, Casey\n",
            "A 75-year-old man had temporary vision loss in his right eye yesterday. Imaging shows moderate narrowing of his right internal carotid artery and severe narrowing on the left.  What treatment should be offered to this patient?\n"
          ]
        },
        {
          "name": "stderr",
          "output_type": "stream",
          "text": [
            "1it [00:00,  4.27it/s]"
          ]
        },
        {
          "name": "stdout",
          "output_type": "stream",
          "text": [
            "[np.int64(1137), np.int64(117), np.int64(1354), np.int64(198)]\n",
            "1137\n",
            "117\n"
          ]
        },
        {
          "name": "stderr",
          "output_type": "stream",
          "text": [
            "\n"
          ]
        },
        {
          "ename": "UnicodeDecodeError",
          "evalue": "'charmap' codec can't decode byte 0x81 in position 129: character maps to <undefined>",
          "output_type": "error",
          "traceback": [
            "\u001b[1;31m---------------------------------------------------------------------------\u001b[0m",
            "\u001b[1;31mUnicodeDecodeError\u001b[0m                        Traceback (most recent call last)",
            "Cell \u001b[1;32mIn[19], line 54\u001b[0m\n\u001b[0;32m     50\u001b[0m         id_question[row[\u001b[38;5;124m\"\u001b[39m\u001b[38;5;124mquestion_id\u001b[39m\u001b[38;5;124m\"\u001b[39m]] \u001b[38;5;241m=\u001b[39m example\n\u001b[0;32m     52\u001b[0m     \u001b[38;5;28;01mreturn\u001b[39;00m id_question\n\u001b[1;32m---> 54\u001b[0m id_question \u001b[38;5;241m=\u001b[39m \u001b[43mconvert_df_to_json\u001b[49m\u001b[43m(\u001b[49m\u001b[43mquestions_df\u001b[49m\u001b[43m)\u001b[49m\n\u001b[0;32m     56\u001b[0m id_question[\u001b[38;5;124m\"\u001b[39m\u001b[38;5;124m5a\u001b[39m\u001b[38;5;124m\"\u001b[39m]\n",
            "Cell \u001b[1;32mIn[19], line 35\u001b[0m, in \u001b[0;36mconvert_df_to_json\u001b[1;34m(df)\u001b[0m\n\u001b[0;32m     32\u001b[0m full_answers \u001b[38;5;241m=\u001b[39m [\u001b[38;5;124mf\u001b[39m\u001b[38;5;124m'\u001b[39m\u001b[38;5;132;01m{\u001b[39;00mletters[i]\u001b[38;5;132;01m}\u001b[39;00m\u001b[38;5;124m. \u001b[39m\u001b[38;5;132;01m{\u001b[39;00mx\u001b[38;5;132;01m}\u001b[39;00m\u001b[38;5;124m'\u001b[39m \u001b[38;5;28;01mfor\u001b[39;00m i,x \u001b[38;5;129;01min\u001b[39;00m \u001b[38;5;28menumerate\u001b[39m(answer_choices) \u001b[38;5;28;01mif\u001b[39;00m letters[i] \u001b[38;5;129;01min\u001b[39;00m answer_letters]\n\u001b[0;32m     34\u001b[0m \u001b[38;5;28mprint\u001b[39m(question_stem)\n\u001b[1;32m---> 35\u001b[0m relevant_docs \u001b[38;5;241m=\u001b[39m \u001b[43mretrieve_docs\u001b[49m\u001b[43m(\u001b[49m\u001b[43mquestion_stem\u001b[49m\u001b[43m)\u001b[49m\n\u001b[0;32m     36\u001b[0m \u001b[38;5;28mprint\u001b[39m(relevant_docs)\n\u001b[0;32m     38\u001b[0m example \u001b[38;5;241m=\u001b[39m {\n\u001b[0;32m     39\u001b[0m     \u001b[38;5;124m\"\u001b[39m\u001b[38;5;124mquestion_id\u001b[39m\u001b[38;5;124m\"\u001b[39m: row[\u001b[38;5;124m\"\u001b[39m\u001b[38;5;124mquestion_id\u001b[39m\u001b[38;5;124m\"\u001b[39m],\n\u001b[0;32m     40\u001b[0m     \u001b[38;5;124m\"\u001b[39m\u001b[38;5;124mquestion\u001b[39m\u001b[38;5;124m\"\u001b[39m: question_stem,\n\u001b[1;32m   (...)\u001b[0m\n\u001b[0;32m     48\u001b[0m     \u001b[38;5;124m\"\u001b[39m\u001b[38;5;124mcontext\u001b[39m\u001b[38;5;124m\"\u001b[39m: relevant_docs,\n\u001b[0;32m     49\u001b[0m }\n",
            "Cell \u001b[1;32mIn[18], line 44\u001b[0m, in \u001b[0;36mretrieve_docs\u001b[1;34m(question, include_relevant, top_k)\u001b[0m\n\u001b[0;32m     42\u001b[0m \u001b[38;5;28;01mfor\u001b[39;00m idx \u001b[38;5;129;01min\u001b[39;00m retrieved_indices[:top_k]:\n\u001b[0;32m     43\u001b[0m     \u001b[38;5;28mprint\u001b[39m(idx)\n\u001b[1;32m---> 44\u001b[0m     chunk \u001b[38;5;241m=\u001b[39m \u001b[43mget_chunk_by_index\u001b[49m\u001b[43m(\u001b[49m\u001b[43midx\u001b[49m\u001b[43m)\u001b[49m\n\u001b[0;32m     45\u001b[0m     chunks\u001b[38;5;241m.\u001b[39mappend(chunk)\n\u001b[0;32m     47\u001b[0m \u001b[38;5;28;01mreturn\u001b[39;00m chunk\n",
            "Cell \u001b[1;32mIn[18], line 20\u001b[0m, in \u001b[0;36mget_chunk_by_index\u001b[1;34m(idx, chunk_dir)\u001b[0m\n\u001b[0;32m     18\u001b[0m path \u001b[38;5;241m=\u001b[39m os\u001b[38;5;241m.\u001b[39mpath\u001b[38;5;241m.\u001b[39mjoin(chunk_dir, filename)\n\u001b[0;32m     19\u001b[0m \u001b[38;5;28;01mwith\u001b[39;00m \u001b[38;5;28mopen\u001b[39m(path, \u001b[38;5;124m\"\u001b[39m\u001b[38;5;124mr\u001b[39m\u001b[38;5;124m\"\u001b[39m) \u001b[38;5;28;01mas\u001b[39;00m f:\n\u001b[1;32m---> 20\u001b[0m     \u001b[38;5;28;01mreturn\u001b[39;00m \u001b[43mf\u001b[49m\u001b[38;5;241;43m.\u001b[39;49m\u001b[43mread\u001b[49m\u001b[43m(\u001b[49m\u001b[43m)\u001b[49m\n",
            "File \u001b[1;32mc:\\Users\\hoped\\AppData\\Local\\Programs\\Python\\Python313\\Lib\\encodings\\cp1252.py:23\u001b[0m, in \u001b[0;36mIncrementalDecoder.decode\u001b[1;34m(self, input, final)\u001b[0m\n\u001b[0;32m     22\u001b[0m \u001b[38;5;28;01mdef\u001b[39;00m\u001b[38;5;250m \u001b[39m\u001b[38;5;21mdecode\u001b[39m(\u001b[38;5;28mself\u001b[39m, \u001b[38;5;28minput\u001b[39m, final\u001b[38;5;241m=\u001b[39m\u001b[38;5;28;01mFalse\u001b[39;00m):\n\u001b[1;32m---> 23\u001b[0m     \u001b[38;5;28;01mreturn\u001b[39;00m \u001b[43mcodecs\u001b[49m\u001b[38;5;241;43m.\u001b[39;49m\u001b[43mcharmap_decode\u001b[49m\u001b[43m(\u001b[49m\u001b[38;5;28;43minput\u001b[39;49m\u001b[43m,\u001b[49m\u001b[38;5;28;43mself\u001b[39;49m\u001b[38;5;241;43m.\u001b[39;49m\u001b[43merrors\u001b[49m\u001b[43m,\u001b[49m\u001b[43mdecoding_table\u001b[49m\u001b[43m)\u001b[49m[\u001b[38;5;241m0\u001b[39m]\n",
            "\u001b[1;31mUnicodeDecodeError\u001b[0m: 'charmap' codec can't decode byte 0x81 in position 129: character maps to <undefined>"
          ]
        }
      ],
      "source": [
        "# do data conversion\n",
        "import json\n",
        "import re\n",
        "from utils.data_utils import extract_answer_choices\n",
        "#from retriever.retrieval import retrieve_docs\n",
        "from tqdm import tqdm\n",
        "\n",
        "def convert_df_to_json(df):\n",
        "    id_question = {}\n",
        "    for _, row in tqdm(df.iterrows()):\n",
        "        full_question_text = row[\"question\"]\n",
        "        try:\n",
        "            question_stem, answer_choices = extract_answer_choices(full_question_text)\n",
        "        except Exception as e:\n",
        "            print(f\"Error parsing choices for question: {full_question_text}\")\n",
        "            raise e\n",
        "\n",
        "        raw_answers = str(row['answer'])\n",
        "        answer_letters = re.split(r\"[,\\s]+\", raw_answers.strip())\n",
        "        letters = \"ABCDEFGHIJKLMNOPQRSTUVWXYZ\"\n",
        "        for a in answer_letters:\n",
        "          i = letters.index(a)\n",
        "          try:\n",
        "            answer_choices[i]\n",
        "          except Exception as e:\n",
        "            print(a, i)\n",
        "            print(row[\"question_id\"])\n",
        "            print(\"\\n\".join(answer_choices))\n",
        "            raise e\n",
        "\n",
        "          # make sure that all answers exist\n",
        "        full_answers = [f'{letters[i]}. {x}' for i,x in enumerate(answer_choices) if letters[i] in answer_letters]\n",
        "\n",
        "        print(question_stem)\n",
        "        relevant_docs = retrieve_docs(question_stem)\n",
        "        print(relevant_docs)\n",
        "\n",
        "        example = {\n",
        "            \"question_id\": row[\"question_id\"],\n",
        "            \"question\": question_stem,\n",
        "            \"choices\": answer_choices,\n",
        "            \"correct_answer\": answer_letters,\n",
        "            \"full_answers\": full_answers,\n",
        "            \"explanation\": row.get(\"explanation\", \"\"),\n",
        "            \"source\": row.get(\"source\", \"\"),\n",
        "            \"tags\": row.get(\"labels\", \"\").split(\",\"),\n",
        "            \"topic\": row.get(\"topic\", \"\"),\n",
        "            \"context\": relevant_docs,\n",
        "        }\n",
        "        id_question[row[\"question_id\"]] = example\n",
        "\n",
        "    return id_question\n",
        "\n",
        "id_question = convert_df_to_json(questions_df)\n",
        "\n",
        "id_question[\"5a\"]"
      ]
    },
    {
      "cell_type": "code",
      "execution_count": null,
      "metadata": {},
      "outputs": [],
      "source": [
        "import os\n",
        "import faiss\n",
        "import numpy as np\n",
        "from sentence_transformers import SentenceTransformer\n",
        "import json\n",
        "import random\n",
        "\n",
        "# Load FAISS index and corpus (assumes pre-built)\n",
        "faiss_index = faiss.read_index(\"retriever/faiss_index/corpus.index\")\n",
        "with open(\"retriever/faiss_index/metadata.json\") as f:\n",
        "    metadata = json.load(f)\n",
        "\n",
        "embedder = SentenceTransformer(\"sentence-transformers/all-MiniLM-L6-v2\")\n",
        "\n",
        "def get_chunk_by_index(idx, chunk_dir=\"retriever/corpus\"):\n",
        "    \"\"\"Given a FAISS index, load the corresponding chunk text.\"\"\"\n",
        "    filename = metadata[idx][\"filename\"]\n",
        "    path = os.path.join(chunk_dir, filename)\n",
        "    with open(path, \"r\") as f:\n",
        "        return f.read()\n",
        "\n",
        "# next; include golden for training\n",
        "def retrieve_docs(question, include_relevant=True, top_k=4):\n",
        "    \"\"\"Retrieve documents for a question.\n",
        "\n",
        "    If include_relevant=True: return top-k FAISS retrieved docs.\n",
        "    If include_relevant=False: return true distractors, sampled randomly while excluding top matches.\n",
        "    \"\"\"\n",
        "\n",
        "    # Embed the question\n",
        "    question_embedding = embedder.encode([question])\n",
        "    question_embedding = np.array(question_embedding).reshape(1, -1)\n",
        "\n",
        "    # Search FAISS index\n",
        "    _, indices = faiss_index.search(question_embedding, top_k)\n",
        "    retrieved_indices = list(indices[0])\n",
        "\n",
        "    if include_relevant:\n",
        "        # Return the top-k most similar documents\n",
        "        print(retrieved_indices[:top_k])\n",
        "        chunks = []\n",
        "        for idx in retrieved_indices[:top_k]:\n",
        "            print(idx)\n",
        "            chunk = get_chunk_by_index(idx)\n",
        "            print(chunk)\n",
        "            chunks.append(chunk)\n",
        "\n",
        "        return chunk\n",
        "\n",
        "    else:\n",
        "        # Build candidate pool by excluding top-k retrieved\n",
        "        all_indices = set(range(len(metadata)))\n",
        "        blocked_indices = set(retrieved_indices[:top_k])\n",
        "        candidate_indices = list(all_indices - blocked_indices)\n",
        "\n",
        "        # Randomly sample true distractors\n",
        "        distractor_indices = random.sample(candidate_indices, top_k)\n",
        "        return [get_chunk_by_index(idx) for idx in distractor_indices]\n",
        "\n",
        "\n",
        "\n"
      ]
    },
    {
      "cell_type": "code",
      "execution_count": 39,
      "metadata": {
        "colab": {
          "base_uri": "https://localhost:8080/"
        },
        "id": "Jo4SJADQHxNx",
        "outputId": "b51ba08f-5908-4ab3-ec41-24f52f5b8284"
      },
      "outputs": [],
      "source": [
        "models =  [\"FreedomIntelligence/Apollo-0.5B\", \"johnsnowlabs/JSL-MedPhi2-2.7B\", \"skumar9/Llama-medx_v3.2\", \"microsoft/Phi-4-mini-instruct\"]\n",
        "model_name = models[3]"
      ]
    },
    {
      "cell_type": "code",
      "execution_count": 40,
      "metadata": {},
      "outputs": [
        {
          "data": {
            "application/vnd.jupyter.widget-view+json": {
              "model_id": "7d45e5a32f924e158992121a87e7a6dc",
              "version_major": 2,
              "version_minor": 0
            },
            "text/plain": [
              "config.json:   0%|          | 0.00/2.50k [00:00<?, ?B/s]"
            ]
          },
          "metadata": {},
          "output_type": "display_data"
        },
        {
          "name": "stderr",
          "output_type": "stream",
          "text": [
            "c:\\Users\\hoped\\AppData\\Local\\Programs\\Python\\Python313\\Lib\\site-packages\\huggingface_hub\\file_download.py:144: UserWarning: `huggingface_hub` cache-system uses symlinks by default to efficiently store duplicated files but your machine does not support them in C:\\Users\\hoped\\.cache\\huggingface\\hub\\models--microsoft--Phi-4-mini-instruct. Caching files will still work but in a degraded version that might require more space on your disk. This warning can be disabled by setting the `HF_HUB_DISABLE_SYMLINKS_WARNING` environment variable. For more details, see https://huggingface.co/docs/huggingface_hub/how-to-cache#limitations.\n",
            "To support symlinks on Windows, you either need to activate Developer Mode or to run Python as an administrator. In order to activate developer mode, see this article: https://docs.microsoft.com/en-us/windows/apps/get-started/enable-your-device-for-development\n",
            "  warnings.warn(message)\n"
          ]
        },
        {
          "data": {
            "application/vnd.jupyter.widget-view+json": {
              "model_id": "c0c7832579a44802811b3e3e74ad41b2",
              "version_major": 2,
              "version_minor": 0
            },
            "text/plain": [
              "model.safetensors.index.json:   0%|          | 0.00/16.3k [00:00<?, ?B/s]"
            ]
          },
          "metadata": {},
          "output_type": "display_data"
        },
        {
          "data": {
            "application/vnd.jupyter.widget-view+json": {
              "model_id": "6b2db62a20e148a19d5a4e8522f9ed5a",
              "version_major": 2,
              "version_minor": 0
            },
            "text/plain": [
              "Fetching 2 files:   0%|          | 0/2 [00:00<?, ?it/s]"
            ]
          },
          "metadata": {},
          "output_type": "display_data"
        },
        {
          "data": {
            "application/vnd.jupyter.widget-view+json": {
              "model_id": "a57da8cbccc843839818bbecdbd5a1e9",
              "version_major": 2,
              "version_minor": 0
            },
            "text/plain": [
              "model-00001-of-00002.safetensors:   0%|          | 0.00/4.90G [00:00<?, ?B/s]"
            ]
          },
          "metadata": {},
          "output_type": "display_data"
        },
        {
          "data": {
            "application/vnd.jupyter.widget-view+json": {
              "model_id": "c6ac66231b3d4615a985423922807f12",
              "version_major": 2,
              "version_minor": 0
            },
            "text/plain": [
              "model-00002-of-00002.safetensors:   0%|          | 0.00/2.77G [00:00<?, ?B/s]"
            ]
          },
          "metadata": {},
          "output_type": "display_data"
        },
        {
          "data": {
            "application/vnd.jupyter.widget-view+json": {
              "model_id": "36b347c05c1e45348b911c0e73267d55",
              "version_major": 2,
              "version_minor": 0
            },
            "text/plain": [
              "Loading checkpoint shards:   0%|          | 0/2 [00:00<?, ?it/s]"
            ]
          },
          "metadata": {},
          "output_type": "display_data"
        },
        {
          "data": {
            "application/vnd.jupyter.widget-view+json": {
              "model_id": "b78ef585a6be4760b14123151d922dd3",
              "version_major": 2,
              "version_minor": 0
            },
            "text/plain": [
              "generation_config.json:   0%|          | 0.00/168 [00:00<?, ?B/s]"
            ]
          },
          "metadata": {},
          "output_type": "display_data"
        },
        {
          "data": {
            "application/vnd.jupyter.widget-view+json": {
              "model_id": "3a1e3e662e3c468c9159ba2836afa418",
              "version_major": 2,
              "version_minor": 0
            },
            "text/plain": [
              "tokenizer_config.json:   0%|          | 0.00/2.93k [00:00<?, ?B/s]"
            ]
          },
          "metadata": {},
          "output_type": "display_data"
        },
        {
          "data": {
            "application/vnd.jupyter.widget-view+json": {
              "model_id": "a10e3d5a7d414224bcc4e1d3382cb8a9",
              "version_major": 2,
              "version_minor": 0
            },
            "text/plain": [
              "vocab.json:   0%|          | 0.00/3.91M [00:00<?, ?B/s]"
            ]
          },
          "metadata": {},
          "output_type": "display_data"
        },
        {
          "data": {
            "application/vnd.jupyter.widget-view+json": {
              "model_id": "cd038ab1c9d2487aa9ff2e30ef94252f",
              "version_major": 2,
              "version_minor": 0
            },
            "text/plain": [
              "merges.txt:   0%|          | 0.00/2.42M [00:00<?, ?B/s]"
            ]
          },
          "metadata": {},
          "output_type": "display_data"
        },
        {
          "data": {
            "application/vnd.jupyter.widget-view+json": {
              "model_id": "6686fb3311a74f179eadd9d66749022a",
              "version_major": 2,
              "version_minor": 0
            },
            "text/plain": [
              "tokenizer.json:   0%|          | 0.00/15.5M [00:00<?, ?B/s]"
            ]
          },
          "metadata": {},
          "output_type": "display_data"
        },
        {
          "data": {
            "application/vnd.jupyter.widget-view+json": {
              "model_id": "71c25b245201461e993297776c594ba6",
              "version_major": 2,
              "version_minor": 0
            },
            "text/plain": [
              "added_tokens.json:   0%|          | 0.00/249 [00:00<?, ?B/s]"
            ]
          },
          "metadata": {},
          "output_type": "display_data"
        },
        {
          "data": {
            "application/vnd.jupyter.widget-view+json": {
              "model_id": "def14fcd9a2148b791244ca11fedd85f",
              "version_major": 2,
              "version_minor": 0
            },
            "text/plain": [
              "special_tokens_map.json:   0%|          | 0.00/587 [00:00<?, ?B/s]"
            ]
          },
          "metadata": {},
          "output_type": "display_data"
        }
      ],
      "source": [
        "model = AutoModelForCausalLM.from_pretrained(model_name)\n",
        "tokenizer = AutoTokenizer.from_pretrained(model_name)\n"
      ]
    },
    {
      "cell_type": "code",
      "execution_count": null,
      "metadata": {
        "colab": {
          "base_uri": "https://localhost:8080/"
        },
        "id": "btaQFhlQMtlt",
        "outputId": "20712ecb-c0a9-4aaa-fff4-49b07115780c"
      },
      "outputs": [
        {
          "name": "stderr",
          "output_type": "stream",
          "text": [
            "Sliding Window Attention is enabled but not implemented for `sdpa`; unexpected results may be encountered.\n",
            "Setting `pad_token_id` to `eos_token_id`:151643 for open-end generation.\n"
          ]
        },
        {
          "name": "stdout",
          "output_type": "stream",
          "text": [
            "Question: What is the primary artery supplying blood to the brain?\n",
            "Choices:\n",
            "A. Femoral artery\n",
            "B. Carotid artery\n",
            "C. Subclavian artery\n",
            "D. Brachial artery\n",
            "Answer: ['B'] - [explanation] - racs] - racs] - racs] - racs] - racs] - racs] - racs] - racs] - racs] - racs] - racs] - racs] - racs] - racs] - racs] - racs] - racs] - racs] - racs] - racs] - racs] - racs] - racs]\n"
          ]
        }
      ],
      "source": [
        "from retriever.retrieval import retrieve_docs\n",
        "\n",
        "# Test on a new MCQ prompt\n",
        "chunks = retrieve_docs(\"What is the primary artery supplying blood to the brain?\")\n",
        "text =  \"\\n\".join([f\"Document {i+1}: {chunk}\" for i, chunk in enumerate(chunks)])\n",
        "prompt = f\"\"\"Context:{text}\n",
        "Question: What is the primary artery supplying blood to the brain?\n",
        "Options:\n",
        "A. Femoral artery\n",
        "B. Carotid artery\n",
        "C. Subclavian artery\n",
        "D. Brachial artery\n",
        "Answer:\"\"\"\n",
        "\n",
        "inputs = tokenizer(prompt, return_tensors=\"pt\").to(model.device)\n",
        "outputs = model.generate(**inputs, max_new_tokens=256)\n",
        "print(tokenizer.decode(outputs[0], skip_special_tokens=True))\n"
      ]
    }
  ],
  "metadata": {
    "accelerator": "GPU",
    "colab": {
      "gpuType": "A100",
      "provenance": []
    },
    "kernelspec": {
      "display_name": "Python 3",
      "name": "python3"
    },
    "language_info": {
      "codemirror_mode": {
        "name": "ipython",
        "version": 3
      },
      "file_extension": ".py",
      "mimetype": "text/x-python",
      "name": "python",
      "nbconvert_exporter": "python",
      "pygments_lexer": "ipython3",
      "version": "3.13.1"
    }
  },
  "nbformat": 4,
  "nbformat_minor": 0
}
